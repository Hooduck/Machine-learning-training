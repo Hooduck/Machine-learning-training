{
 "cells": [
  {
   "cell_type": "markdown",
   "metadata": {},
   "source": [
    "[C'est quoi PCA](https://openclassrooms.com/fr/courses/4525281-realisez-une-analyse-exploratoire-de-donnees/5280368-comprenez-lenjeu-de-lanalyse-en-composantes-principales)\n",
    "\n",
    "[SKLearn - Decomposition](https://scikit-learn.org/stable/modules/decomposition.html) ; [SKLearn - PCA](https://scikit-learn.org/stable/modules/generated/sklearn.decomposition.PCA.html)"
   ]
  },
  {
   "cell_type": "code",
   "execution_count": 13,
   "metadata": {
    "collapsed": false
   },
   "outputs": [
    {
     "name": "stdout",
     "output_type": "stream",
     "text": [
      "[ 0.99244289  0.00755711]\n"
     ]
    },
    {
     "data": {
      "image/png": "[encoded data removed]",
      "text/plain": [
       "<matplotlib.figure.Figure at 0xb0d8198>"
      ]
     },
     "metadata": {},
     "output_type": "display_data"
    }
   ],
   "source": [
    "from matplotlib import pyplot as plt\n",
    "import numpy as np\n",
    "from sklearn.decomposition import PCA\n",
    "%matplotlib inline\n",
    "\n",
    "\n",
    "def doPCA(data, x):\n",
    "    pca = PCA(n_components= x )\n",
    "    pca.fit(data)\n",
    "    return pca\n",
    "\n",
    "\n",
    "X = np.array([[-1, -1], [-2, -1], [-3, -2], [1, 1], [2, 1], [3, 2]])\n",
    "pca = doPCA(X, 2)\n",
    "\n",
    "\n",
    "print(pca.explained_variance_ratio_)\n",
    "first_pc = pca.components_[0]\n",
    "second_pc = pca.components_[1]\n",
    "\n",
    "trans_data = pca.transform(X)\n",
    "\n",
    "\n",
    "for ii, jj in zip(trans_data, X):\n",
    "    plt.scatter(first_pc[0]*ii[0], first_pc[1]*ii[0], color = 'r')\n",
    "    plt.scatter(second_pc[0]*ii[1], second_pc[1]*ii[1], color = 'b')\n",
    "    #plt.scatter(jj[0], jj[1], color = 'y')\n",
    "\n",
    "\n",
    "#print(pca.singular_values_)\n"
   ]
  },
  {
   "cell_type": "markdown",
   "metadata": {},
   "source": [
    "[Illustration par Eigenface](https://scikit-learn.org/stable/auto_examples/applications/plot_face_recognition.html?highlight=eigenface)"
   ]
  },
  {
   "cell_type": "code",
   "execution_count": null,
   "metadata": {
    "collapsed": true
   },
   "outputs": [],
   "source": []
  }
 ],
 "metadata": {
  "kernelspec": {
   "display_name": "Python 2",
   "language": "python",
   "name": "python2"
  },
  "language_info": {
   "codemirror_mode": {
    "name": "ipython",
    "version": 2
   },
   "file_extension": ".py",
   "mimetype": "text/x-python",
   "name": "python",
   "nbconvert_exporter": "python",
   "pygments_lexer": "ipython2",
   "version": "2.7.13"
  }
 },
 "nbformat": 4,
 "nbformat_minor": 2
}
