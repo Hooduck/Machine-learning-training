{
 "cells": [
  {
   "cell_type": "markdown",
   "metadata": {},
   "source": [
    "k nearest neighbors:\n",
    "[What is-](https://openclassrooms.com/fr/courses/4011851-initiez-vous-au-machine-learning/4022441-entrainez-votre-premier-k-nn) ;\n",
    "[How to-](https://scikit-learn.org/stable/modules/generated/sklearn.neighbors.KNeighborsClassifier.html)\n",
    "\n",
    "adaboost:\n",
    "[What is-](https://datascientest.com/algorithmes-de-boosting-adaboost-gradient-boosting-xgboost) ;\n",
    "[How to-](https://scikit-learn.org/stable/modules/generated/sklearn.ensemble.AdaBoostClassifier.html) ;\n",
    "[Ensemble approach](https://blog.octo.com/les-methodes-ensemblistes-pour-algorithmes-de-machine-learning/) ;\n",
    "[Ensemble approach & adaboost](https://www.datacamp.com/community/tutorials/adaboost-classifier-python)\n",
    "\n",
    "random forest:\n",
    "[What is-](https://larevueia.fr/random-forest/) ;\n",
    "[How to-](https://scikit-learn.org/stable/modules/generated/sklearn.ensemble.RandomForestClassifier.html)\n"
   ]
  },
  {
   "cell_type": "markdown",
   "metadata": {},
   "source": [
    "k nearest neighbors"
   ]
  },
  {
   "cell_type": "code",
   "execution_count": 2,
   "metadata": {
    "collapsed": false
   },
   "outputs": [
    {
     "name": "stdout",
     "output_type": "stream",
     "text": [
      "training time: 0.003 s\n",
      "predict time: 0.004 s\n",
      "accuracy =  0.94\n"
     ]
    }
   ],
   "source": [
    "import matplotlib.pyplot as plt\n",
    "import sys\n",
    "from time import time\n",
    "from prep_terrain_data import makeTerrainData\n",
    "from class_vis import prettyPicture\n",
    "\n",
    "features_train, labels_train, features_test, labels_test = makeTerrainData()\n",
    "\n",
    "\n",
    "### the training data (features_train, labels_train) have both \"fast\" and \"slow\"\n",
    "### points mixed together--separate them so we can give them different colors\n",
    "### in the scatterplot and identify them visually\n",
    "grade_fast = [features_train[ii][0] for ii in range(0, len(features_train)) if labels_train[ii]==0]\n",
    "bumpy_fast = [features_train[ii][1] for ii in range(0, len(features_train)) if labels_train[ii]==0]\n",
    "grade_slow = [features_train[ii][0] for ii in range(0, len(features_train)) if labels_train[ii]==1]\n",
    "bumpy_slow = [features_train[ii][1] for ii in range(0, len(features_train)) if labels_train[ii]==1]\n",
    "\n",
    "\"\"\"\n",
    "#### initial visualization\n",
    "plt.xlim(0.0, 1.0)\n",
    "plt.ylim(0.0, 1.0)\n",
    "plt.scatter(bumpy_fast, grade_fast, color = \"b\", label=\"fast\")\n",
    "plt.scatter(grade_slow, bumpy_slow, color = \"r\", label=\"slow\")\n",
    "plt.legend()\n",
    "plt.xlabel(\"bumpiness\")\n",
    "plt.ylabel(\"grade\")\n",
    "plt.show()\n",
    "\"\"\"\n",
    "\n",
    "################################################################################\n",
    "\n",
    "### your code here!  name your classifier object clf if you want the \n",
    "### visualization code (prettyPicture) to show you the decision boundary\n",
    "\n",
    "from sklearn.neighbors import KNeighborsClassifier\n",
    "\n",
    "#n_neighbors - Nombre de voisins à considérer pour déterminer la couleur\n",
    "#weights - Coefficient selon la distance des points ou non (distance = true)\n",
    "clf1 = KNeighborsClassifier(n_neighbors=2, weights='distance')\n",
    "t0 = time()\n",
    "clf1.fit(features_train, labels_train)\n",
    "t1 = time()\n",
    "print \"training time:\", round(t1-t0, 3), \"s\"\n",
    "\n",
    "from sklearn.metrics import accuracy_score\n",
    "\n",
    "t1 = time()\n",
    "pred = clf1.predict(features_test)\n",
    "t2 = time()\n",
    "print \"predict time:\", round(t2-t1, 3), \"s\"\n",
    "print \"accuracy = \", accuracy_score(labels_test, pred)\n",
    "\n",
    "prettyPicture(clf1, features_test, labels_test, 'CYOA_kNN_test')"
   ]
  },
  {
   "cell_type": "markdown",
   "metadata": {},
   "source": [
    "<img src=\"CYOA_kNN_test.png\">"
   ]
  },
  {
   "cell_type": "markdown",
   "metadata": {},
   "source": [
    "adaboost"
   ]
  },
  {
   "cell_type": "code",
   "execution_count": 29,
   "metadata": {
    "collapsed": false
   },
   "outputs": [
    {
     "name": "stdout",
     "output_type": "stream",
     "text": [
      "training time: 0.21 s\n",
      "predict time: 0.008 s\n",
      "accuracy =  0.924\n"
     ]
    }
   ],
   "source": [
    "import matplotlib.pyplot as plt\n",
    "import sys\n",
    "from time import time\n",
    "from prep_terrain_data import makeTerrainData\n",
    "from class_vis import prettyPicture\n",
    "\n",
    "features_train, labels_train, features_test, labels_test = makeTerrainData()\n",
    "\n",
    "\n",
    "### the training data (features_train, labels_train) have both \"fast\" and \"slow\"\n",
    "### points mixed together--separate them so we can give them different colors\n",
    "### in the scatterplot and identify them visually\n",
    "grade_fast = [features_train[ii][0] for ii in range(0, len(features_train)) if labels_train[ii]==0]\n",
    "bumpy_fast = [features_train[ii][1] for ii in range(0, len(features_train)) if labels_train[ii]==0]\n",
    "grade_slow = [features_train[ii][0] for ii in range(0, len(features_train)) if labels_train[ii]==1]\n",
    "bumpy_slow = [features_train[ii][1] for ii in range(0, len(features_train)) if labels_train[ii]==1]\n",
    "\n",
    "\"\"\"\n",
    "#### initial visualization\n",
    "plt.xlim(0.0, 1.0)\n",
    "plt.ylim(0.0, 1.0)\n",
    "plt.scatter(bumpy_fast, grade_fast, color = \"b\", label=\"fast\")\n",
    "plt.scatter(grade_slow, bumpy_slow, color = \"r\", label=\"slow\")\n",
    "plt.legend()\n",
    "plt.xlabel(\"bumpiness\")\n",
    "plt.ylabel(\"grade\")\n",
    "plt.show()\n",
    "\"\"\"\n",
    "\n",
    "################################################################################\n",
    "\n",
    "### your code here!  name your classifier object clf if you want the \n",
    "### visualization code (prettyPicture) to show you the decision boundary\n",
    "\n",
    "from sklearn.ensemble import AdaBoostClassifier\n",
    "#from xx import xx\n",
    "\n",
    "#base_estimator - Type d'algo. utilisé par les weak learners (par défaut, 'Decision Tree')\n",
    "#   Veillez à ce que ce soit un modèle statistique / Sinon, on a toujours le même résultat ça n'a pas de sens, enfin...\n",
    "#n_estimators - Nb. de weak learners utilisés pour construire le strong learner\n",
    "#learning_rate - Réduit l'impact des nouvelles itération selon un coef. (de 0 à 1)\n",
    "clf2 = AdaBoostClassifier(base_estimator= None, n_estimators=50, learning_rate=1)\n",
    "t0 = time()\n",
    "clf2.fit(features_train, labels_train)\n",
    "t1 = time()\n",
    "print \"training time:\", round(t1-t0, 3), \"s\"\n",
    "\n",
    "from sklearn.metrics import accuracy_score\n",
    "\n",
    "t1 = time()\n",
    "pred = clf2.predict(features_test)\n",
    "t2 = time()\n",
    "print \"predict time:\", round(t2-t1, 3), \"s\"\n",
    "print \"accuracy = \", accuracy_score(labels_test, pred)\n",
    "\n",
    "prettyPicture(clf2, features_test, labels_test, 'CYOA_Ab_test')"
   ]
  },
  {
   "cell_type": "markdown",
   "metadata": {},
   "source": [
    "<img src=\"CYOA_Ab_test.png\">"
   ]
  },
  {
   "cell_type": "markdown",
   "metadata": {},
   "source": [
    "random forest"
   ]
  },
  {
   "cell_type": "code",
   "execution_count": 30,
   "metadata": {
    "collapsed": false
   },
   "outputs": [
    {
     "name": "stdout",
     "output_type": "stream",
     "text": [
      "training time: 0.35 s\n",
      "predict time: 0.064 s\n",
      "accuracy =  0.912\n"
     ]
    }
   ],
   "source": [
    "import matplotlib.pyplot as plt\n",
    "import sys\n",
    "from time import time\n",
    "from prep_terrain_data import makeTerrainData\n",
    "from class_vis import prettyPicture\n",
    "\n",
    "features_train, labels_train, features_test, labels_test = makeTerrainData()\n",
    "\n",
    "\n",
    "### the training data (features_train, labels_train) have both \"fast\" and \"slow\"\n",
    "### points mixed together--separate them so we can give them different colors\n",
    "### in the scatterplot and identify them visually\n",
    "grade_fast = [features_train[ii][0] for ii in range(0, len(features_train)) if labels_train[ii]==0]\n",
    "bumpy_fast = [features_train[ii][1] for ii in range(0, len(features_train)) if labels_train[ii]==0]\n",
    "grade_slow = [features_train[ii][0] for ii in range(0, len(features_train)) if labels_train[ii]==1]\n",
    "bumpy_slow = [features_train[ii][1] for ii in range(0, len(features_train)) if labels_train[ii]==1]\n",
    "\n",
    "\"\"\"\n",
    "#### initial visualization\n",
    "plt.xlim(0.0, 1.0)\n",
    "plt.ylim(0.0, 1.0)\n",
    "plt.scatter(bumpy_fast, grade_fast, color = \"b\", label=\"fast\")\n",
    "plt.scatter(grade_slow, bumpy_slow, color = \"r\", label=\"slow\")\n",
    "plt.legend()\n",
    "plt.xlabel(\"bumpiness\")\n",
    "plt.ylabel(\"grade\")\n",
    "plt.show()\n",
    "\"\"\"\n",
    "\n",
    "################################################################################\n",
    "\n",
    "### your code here!  name your classifier object clf if you want the \n",
    "### visualization code (prettyPicture) to show you the decision boundary\n",
    "\n",
    "from sklearn.ensemble import RandomForestClassifier\n",
    "#from xx import xx\n",
    "\n",
    "#n_estimators - Nb. de decision tree utilisés pour construire la random forest\n",
    "clf3 = RandomForestClassifier(n_estimators=100)\n",
    "t0 = time()\n",
    "clf3.fit(features_train, labels_train)\n",
    "t1 = time()\n",
    "print \"training time:\", round(t1-t0, 3), \"s\"\n",
    "\n",
    "from sklearn.metrics import accuracy_score\n",
    "\n",
    "t1 = time()\n",
    "pred = clf3.predict(features_test)\n",
    "t2 = time()\n",
    "print \"predict time:\", round(t2-t1, 3), \"s\"\n",
    "print \"accuracy = \", accuracy_score(labels_test, pred)\n",
    "\n",
    "prettyPicture(clf3, features_test, labels_test, 'CYOA_RF_test')"
   ]
  },
  {
   "cell_type": "markdown",
   "metadata": {},
   "source": [
    "<img src=\"CYOA_RF_test.png\">"
   ]
  },
  {
   "cell_type": "code",
   "execution_count": null,
   "metadata": {
    "collapsed": true
   },
   "outputs": [],
   "source": []
  }
 ],
 "metadata": {
  "kernelspec": {
   "display_name": "Python 2",
   "language": "python",
   "name": "python2"
  },
  "language_info": {
   "codemirror_mode": {
    "name": "ipython",
    "version": 2
   },
   "file_extension": ".py",
   "mimetype": "text/x-python",
   "name": "python",
   "nbconvert_exporter": "python",
   "pygments_lexer": "ipython2",
   "version": "2.7.13"
  }
 },
 "nbformat": 4,
 "nbformat_minor": 2
}
