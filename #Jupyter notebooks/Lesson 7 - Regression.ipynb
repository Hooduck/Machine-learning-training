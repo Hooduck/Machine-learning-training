{
 "cells": [
  {
   "cell_type": "markdown",
   "metadata": {},
   "source": [
    "[Regression vs Classification (Continue vs Discret)](https://www.geeksforgeeks.org/ml-classification-vs-regression/)\n",
    "\n",
    "[SKLearn Linear model](https://scikit-learn.org/stable/modules/linear_model.html) ; [Principe d'erreur quadratique](https://openclassrooms.com/fr/courses/4011851-initiez-vous-au-machine-learning/4120981-construisez-un-modele-statistique#/id/r-4120990)\n",
    "\n",
    "Méthodes de régression : [Moindres carrés ordinaires](https://openclassrooms.com/fr/courses/4525326-realisez-des-modelisations-de-donnees-performantes/5754171-appliquez-la-methode-des-moindres-carres-ordinaires) ; [Descente de gradients](https://developers.google.com/machine-learning/crash-course/reducing-loss/gradient-descent)\n",
    "\n",
    "[Coef de détermination](https://fr.khanacademy.org/math/be-5eme-secondaire2h2/x741278364a599ec1:statistiques/x741278364a599ec1:coefficient-de-determination/a/r-squared-intuition); [Wiki](https://fr.wikipedia.org/wiki/Coefficient_de_d%C3%A9termination)\n",
    "\n",
    "[Under/Overfitting](https://mrmint.fr/overfitting-et-underfitting-quand-vos-algorithmes-de-machine-learning-derapent)\n"
   ]
  },
  {
   "cell_type": "markdown",
   "metadata": {},
   "source": [
    "Motivation à utiliser l'erreur quadratique :\n",
    "(La ligne valide est celle du milieu, car minimisant l'erreur quadratique. Je te laisse chercher pourquoi, mon bezeau. C'est niveau collège...)\n",
    "<img src=\"Info. E abs & E quadra.png\">"
   ]
  },
  {
   "cell_type": "code",
   "execution_count": 56,
   "metadata": {},
   "outputs": [
    {
     "name": "stdout",
     "output_type": "stream",
     "text": [
      "prediction (1): [1091.15672308]\n",
      "slope (a): [938.23786125]\n",
      "intercept (b): 152.91886182616167\n",
      "r² - Train (1 is best): 0.3351312506867542\n",
      "r² - Test: 0.4725754479822712\n"
     ]
    },
    {
     "data": {
      "image/png": "[encoded data removed]",
      "text/plain": [
       "<Figure size 432x288 with 1 Axes>"
      ]
     },
     "metadata": {},
     "output_type": "display_data"
    }
   ],
   "source": [
    "#print(__doc__)\n",
    "%matplotlib inline\n",
    "# Code source: Jaques Grobler\n",
    "# License: BSD 3 clause\n",
    "\n",
    "\n",
    "import matplotlib.pyplot as plt\n",
    "import numpy as np\n",
    "from sklearn import datasets, linear_model\n",
    "from sklearn.metrics import mean_squared_error, r2_score\n",
    "\n",
    "\n",
    "# Load the diabetes dataset\n",
    "diabetes_X, diabetes_y = datasets.load_diabetes(return_X_y=True)\n",
    "\n",
    "# Use only one feature\n",
    "diabetes_X = diabetes_X[:, np.newaxis, 2]\n",
    "\n",
    "# Split the data into training/testing sets\n",
    "diabetes_X_train = diabetes_X[:-20]\n",
    "diabetes_X_test = diabetes_X[-20:]\n",
    "\n",
    "# Split the targets into training/testing sets\n",
    "diabetes_y_train = diabetes_y[:-20]\n",
    "diabetes_y_test = diabetes_y[-20:]\n",
    "\n",
    "# Create linear regression object\n",
    "regr = linear_model.LinearRegression()\n",
    "\n",
    "# Train the model using the training sets\n",
    "regr.fit(diabetes_X_train, diabetes_y_train)\n",
    "\n",
    "# Make predictions using the testing set\n",
    "diabetes_y_pred = regr.predict(diabetes_X_train)\n",
    "\n",
    "\n",
    "\"\"\"\n",
    "# The coefficients\n",
    "print('Coefficients: \\n', regr.coef_)\n",
    "# The mean squared error\n",
    "print('Mean squared error: %.2f'\n",
    "      % mean_squared_error(diabetes_y_test, diabetes_y_pred))\n",
    "# The coefficient of determination: 1 is perfect prediction\n",
    "print('Coefficient of determination: %.2f'\n",
    "      % r2_score(diabetes_y_test, diabetes_y_pred))\n",
    "\"\"\"\n",
    "\n",
    "\n",
    "print 'prediction (1):', regr.predict([[1]])\n",
    "print 'slope (a):', regr.coef_\n",
    "print 'intercept (b):', regr.intercept_\n",
    "\n",
    "print 'r² - Train (1 is best):', regr.score(diabetes_X_train, diabetes_y_train)\n",
    "print 'r² - Test:', regr.score(diabetes_X_test, diabetes_y_test)\n",
    "#Ratio pred/moy. (r²) du test est meilleur que celui du train\n",
    "# --> Underfitting\n",
    "# --> Nature même des Moindres Carrès : Plus il y a de valeurs, plus il y a d'erreurs potentielles, amplifiées\n",
    "#     Par la moyenne quadratique\n",
    "\n",
    "\n",
    "# Plot outputs\n",
    "plt.scatter(diabetes_X_train, diabetes_y_train,  color='black')\n",
    "plt.scatter(diabetes_X_train, diabetes_y_pred, color='blue')\n",
    "\n",
    "plt.xticks(())\n",
    "plt.yticks(())\n",
    "\n",
    "plt.show()"
   ]
  },
  {
   "cell_type": "code",
   "execution_count": 76,
   "metadata": {},
   "outputs": [
    {
     "name": "stdout",
     "output_type": "stream",
     "text": [
      "[5.44814029]\n",
      "-102360.54329388007\n",
      "0.04550919269952436\n",
      "-1.484992417368511\n",
      "[2.27410114]\n"
     ]
    },
    {
     "data": {
      "image/png": "[encoded data removed]",
      "text/plain": [
       "<Figure size 432x288 with 1 Axes>"
      ]
     },
     "metadata": {
      "needs_background": "light"
     },
     "output_type": "display_data"
    }
   ],
   "source": [
    "\"\"\"\n",
    "    Starter code for the regression mini-project.\n",
    "    \n",
    "    Loads up/formats a modified version of the dataset\n",
    "    (why modified?  we've removed some trouble points\n",
    "    that you'll find yourself in the outliers mini-project).\n",
    "\n",
    "    Draws a little scatterplot of the training/testing data\n",
    "\n",
    "    You fill in the regression code where indicated:\n",
    "\"\"\"    \n",
    "\n",
    "%matplotlib inline\n",
    "\n",
    "import sys\n",
    "import pickle\n",
    "sys.path.append(\"../tools/\")\n",
    "from feature_format import featureFormat, targetFeatureSplit\n",
    "dictionary = pickle.load(open(\"../final_project/final_project_dataset_modified.pkl\", \"r\") )\n",
    "\n",
    "\n",
    "### list the features you want to look at--first item in the \n",
    "### list will be the \"target\" feature\n",
    "features_list = [\"bonus\", \"salary\"]\n",
    "#features_list = [\"bonus\", \"long_term_incentive\"]\n",
    "data = featureFormat( dictionary, features_list, remove_any_zeroes=True)\n",
    "target, features = targetFeatureSplit( data )\n",
    "\n",
    "\n",
    "### training-testing split needed in regression, just like classification\n",
    "from sklearn.model_selection import train_test_split\n",
    "feature_train, feature_test, target_train, target_test = train_test_split(features,\\\n",
    "                                                                          target, test_size=0.5, random_state=42)\n",
    "train_color = \"b\"\n",
    "test_color = \"r\"\n",
    "\n",
    "\n",
    "### Your regression goes here!\n",
    "### Please name it reg, so that the plotting code below picks it up and \n",
    "### plots it correctly. Don't forget to change the test_color above from \"b\" to\n",
    "### \"r\" to differentiate training points from test points.\n",
    "\n",
    "from sklearn import linear_model\n",
    "\n",
    "reg = linear_model.LinearRegression()\n",
    "reg.fit(feature_train, target_train)\n",
    "#reg.fit(feature_test, target_test)\n",
    "\n",
    "print reg.coef_\n",
    "print reg.intercept_\n",
    "print reg.score(feature_train, target_train)\n",
    "    #Avec 'salary' : Score minable\n",
    "    #Avec 'long_term_incentive' : C'est mieux\n",
    "print reg.score(feature_test, target_test)\n",
    "    #Avec 'salary' : Score absurde (Droite de rég. inutile pour ces données)\n",
    "    #Avec 'long_term_incentive' : C'est mieux mais c'est franchement pas ouf...\n",
    "\n",
    "\n",
    "### draw the scatterplot, with color-coded training and testing points\n",
    "import matplotlib.pyplot as plt\n",
    "for feature, target in zip(feature_test, target_test):\n",
    "    plt.scatter( feature, target, color=test_color ) \n",
    "for feature, target in zip(feature_train, target_train):\n",
    "    plt.scatter( feature, target, color=train_color ) \n",
    "\n",
    "### labels for the legend\n",
    "plt.scatter(feature_test[0], target_test[0], color=test_color, label=\"test\")\n",
    "plt.scatter(feature_test[0], target_test[0], color=train_color, label=\"train\")\n",
    "\n",
    "\n",
    "### draw the regression line, once it's coded\n",
    "try:\n",
    "    plt.plot(feature_test, reg.predict(feature_test))\n",
    "except NameError:\n",
    "    pass\n",
    "\n",
    "reg.fit(feature_test, target_test)\n",
    "print reg.coef_\n",
    "plt.plot(feature_train, reg.predict(feature_train), color=\"b\") \n",
    "#On recontruit une droite de rég. excluant l'outlier avec un salaire >1M$\n",
    "#Résultant un coef. directeur de droite plus 2 fois inférieur à l'originel\n",
    "# --> Attention aux outliers\n",
    "\n",
    "plt.xlabel(features_list[1])\n",
    "plt.ylabel(features_list[0])\n",
    "plt.legend()\n",
    "plt.show()\n"
   ]
  },
  {
   "cell_type": "code",
   "execution_count": null,
   "metadata": {},
   "outputs": [],
   "source": []
  }
 ],
 "metadata": {
  "kernelspec": {
   "display_name": "Python 2",
   "language": "python",
   "name": "python2"
  },
  "language_info": {
   "codemirror_mode": {
    "name": "ipython",
    "version": 2
   },
   "file_extension": ".py",
   "mimetype": "text/x-python",
   "name": "python",
   "nbconvert_exporter": "python",
   "pygments_lexer": "ipython2",
   "version": "2.7.18"
  }
 },
 "nbformat": 4,
 "nbformat_minor": 2
}
