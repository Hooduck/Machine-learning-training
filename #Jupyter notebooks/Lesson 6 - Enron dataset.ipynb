{
 "cells": [
  {
   "cell_type": "code",
   "execution_count": 55,
   "metadata": {
    "collapsed": false
   },
   "outputs": [
    {
     "name": "stdout",
     "output_type": "stream",
     "text": [
      "nb of empl. = 146\n",
      "nb of field/empl. = 21\n",
      "nb of poi = 18\n",
      "James Prentice / total stock value =  1.1 M$\n",
      "Wesley Colwell / from this person to poi =  11 mails\n",
      "Jeffrey K Skilling / exercised stock options =  19.25 M$\n"
     ]
    }
   ],
   "source": [
    "\"\"\" \n",
    "    Starter code for exploring the Enron dataset (emails + finances);\n",
    "    loads up the dataset (pickled dict of dicts).\n",
    "\n",
    "    The dataset has the form:\n",
    "    enron_data[\"LASTNAME FIRSTNAME MIDDLEINITIAL\"] = { features_dict }\n",
    "\n",
    "    {features_dict} is a dictionary of features associated with that person.\n",
    "    You should explore features_dict as part of the mini-project,\n",
    "    but here's an example to get you started:\n",
    "\n",
    "    enron_data[\"SKILLING JEFFREY K\"][\"bonus\"] = 5600000\n",
    "    \n",
    "\"\"\"\n",
    "\n",
    "import pickle\n",
    "import pprint as pp\n",
    "from poi_email_addresses import poiEmails\n",
    "\n",
    "poi_emails = poiEmails()\n",
    "\n",
    "with open(\"../final_project/final_project_dataset.pkl\", \"rb\") as f:\n",
    "    enron_data = pickle.load(f)\n",
    "    \n",
    "    poi = set()\n",
    "    for empl in enron_data:\n",
    "        if enron_data[empl]['poi'] == True:poi.add(empl)\n",
    "    \n",
    "    print \"nb of empl. =\", len(enron_data)\n",
    "    print \"nb of field/empl. =\", len(enron_data['LAY KENNETH L'])\n",
    "    print \"nb of poi =\", len(poi)\n",
    "    print \"James Prentice / total stock value = \",\\\n",
    "        round(enron_data['PRENTICE JAMES']['total_stock_value'] / 10**6., 2), \"M$\"\n",
    "    print \"Wesley Colwell / from this person to poi = \",\\\n",
    "        enron_data['COLWELL WESLEY']['from_this_person_to_poi'], \"mails\"\n",
    "    print \"Jeffrey K Skilling / exercised stock options = \",\\\n",
    "        round(enron_data['SKILLING JEFFREY K']['exercised_stock_options'] / 10**6., 2), \"M$\"\n",
    "    \n",
    "    \n",
    "    #pp.pprint(enron_data)\n"
   ]
  },
  {
   "cell_type": "code",
   "execution_count": null,
   "metadata": {
    "collapsed": true
   },
   "outputs": [],
   "source": []
  }
 ],
 "metadata": {
  "kernelspec": {
   "display_name": "Python 2",
   "language": "python",
   "name": "python2"
  },
  "language_info": {
   "codemirror_mode": {
    "name": "ipython",
    "version": 2
   },
   "file_extension": ".py",
   "mimetype": "text/x-python",
   "name": "python",
   "nbconvert_exporter": "python",
   "pygments_lexer": "ipython2",
   "version": "2.7.13"
  }
 },
 "nbformat": 4,
 "nbformat_minor": 2
}
