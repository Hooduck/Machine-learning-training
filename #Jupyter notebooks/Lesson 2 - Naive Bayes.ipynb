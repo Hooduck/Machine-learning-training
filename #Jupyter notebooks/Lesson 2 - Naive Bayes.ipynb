{
 "cells": [
  {
   "cell_type": "markdown",
   "metadata": {},
   "source": [
    "[Terminologie](https://developers.google.com/machine-learning/crash-course/framing/ml-terminology?hl=fr)\n",
    "\n",
    "[Qu'est ce que c'est le NB Classifieur](https://mrmint.fr/naive-bayes-classifier)\n",
    "\n",
    "[SKLearn NB](https://scikit-learn.org/stable/modules/naive_bayes.html)\n",
    "\n",
    "[How to- SKLearn NBG](https://scikit-learn.org/stable/modules/generated/sklearn.naive_bayes.GaussianNB.html)\n"
   ]
  },
  {
   "cell_type": "code",
   "execution_count": 7,
   "metadata": {},
   "outputs": [
    {
     "name": "stdout",
     "output_type": "stream",
     "text": [
      "[1]\n"
     ]
    }
   ],
   "source": [
    "import numpy as np\n",
    "from sklearn.naive_bayes import GaussianNB\n",
    "\n",
    "X = np.array([[-1, -1], [-2, -1], [-3, -2], [1, 1], [2, 1], [3, 2]])\n",
    "Y = np.array([1, 1, 1, 2, 2, 2])\n",
    "\n",
    "clf = GaussianNB() #classifier\n",
    "clf.fit(X, Y) #fit = entraînement via X (features) et Y (label)\n",
    "print(clf.predict([[-0.8, -1]])) #Prédiction basé sur l'entraînement\n",
    "\n",
    "#Fit incrémental : Meilleures perfos sur jeu de données massives\n",
    "#clf_pf = GaussianNB()\n",
    "#clf_pf.partial_fit(X, Y, np.unique(Y))\n",
    "#print(clf_pf.predict([[-0.8, -1]]))"
   ]
  },
  {
   "cell_type": "markdown",
   "metadata": {},
   "source": [
    "[Accuracy](https://developers.google.com/machine-learning/crash-course/classification/accuracy?hl=fr)\n"
   ]
  },
  {
   "cell_type": "code",
   "execution_count": 5,
   "metadata": {},
   "outputs": [
    {
     "name": "stdout",
     "output_type": "stream",
     "text": [
      "0.5\n",
      "2\n"
     ]
    }
   ],
   "source": [
    "from sklearn.metrics import accuracy_score\n",
    "y_pred = [0, 2, 1, 3]\n",
    "y_true = [0, 1, 2, 3]\n",
    "\n",
    "# %age de bonnes valeurs\n",
    "print(accuracy_score(y_true, y_pred))\n",
    "\n",
    "# Nombre de bonnes valeurs\n",
    "print(accuracy_score(y_true, y_pred, normalize=False))\n",
    "\n",
    "#Pour estimer ça il faut bien sûr, avoir un jeu de données testées comparable à nos predictions\n",
    "#Pas le même sinon on atteindra les 100%, c'est complétement con..."
   ]
  },
  {
   "cell_type": "markdown",
   "metadata": {},
   "source": [
    "Exemple tiré de l'exercice traçant la limite entre rapide et lent en fonction de la nature du terrain :\n",
    "<img src=\"test.png\">\n"
   ]
  },
  {
   "cell_type": "markdown",
   "metadata": {},
   "source": [
    "[Bayes](https://scienceetonnante.com/2012/10/08/les-probabilites-conditionnelles-bayes-level-1/)\n"
   ]
  },
  {
   "cell_type": "code",
   "execution_count": 1,
   "metadata": {},
   "outputs": [
    {
     "name": "stdout",
     "output_type": "stream",
     "text": [
      "3.2.2\n",
      "1.11.3\n",
      "0.18.1\n",
      "0.18.1\n"
     ]
    }
   ],
   "source": [
    "#Test des prereqs pour Machine Learning\n",
    "\n",
    "import nltk\n",
    "import numpy\n",
    "import sklearn\n",
    "import scipy\n",
    "\n",
    "print(nltk.__version__)\n",
    "print(numpy.__version__)\n",
    "print(sklearn.__version__)\n",
    "print(scipy.__version__)\n"
   ]
  },
  {
   "cell_type": "markdown",
   "metadata": {},
   "source": [
    "Projet"
   ]
  },
  {
   "cell_type": "code",
   "execution_count": 18,
   "metadata": {},
   "outputs": [
    {
     "name": "stdout",
     "output_type": "stream",
     "text": [
      "no. of Chris training emails: 7936\n",
      "no. of Sara training emails: 7884\n",
      "training time: 2.148 s\n",
      "predict time: 0.371 s\n",
      "accuracy =  0.973265073948\n"
     ]
    }
   ],
   "source": [
    "\"\"\" \n",
    "    This is the code to accompany the Lesson 1 (Naive Bayes) mini-project. \n",
    "\n",
    "    Use a Naive Bayes Classifier to identify emails by their authors\n",
    "    \n",
    "    authors and labels:\n",
    "    Sara has label 0\n",
    "    Chris has label 1\n",
    "\"\"\"\n",
    "\n",
    "\n",
    "import sys\n",
    "from time import time\n",
    "sys.path.append(\"../tools/\")\n",
    "from email_preprocess import preprocess\n",
    "from sklearn.naive_bayes import GaussianNB\n",
    "from sklearn.metrics import accuracy_score\n",
    "\n",
    "\n",
    "### features_train and features_test are the features for the training\n",
    "### and testing datasets, respectively\n",
    "### labels_train and labels_test are the corresponding item labels\n",
    "features_train, features_test, labels_train, labels_test = preprocess()\n",
    "\n",
    "\n",
    "#########################################################\n",
    "\n",
    "clf = GaussianNB()\n",
    "t0 = time()\n",
    "clf.fit(features_train, labels_train)\n",
    "t1 = time()\n",
    "print \"training time:\", round(t1-t0, 3), \"s\"\n",
    "\n",
    "pred = clf.predict(features_test)\n",
    "t2 = time()\n",
    "print \"predict time:\", round(t2-t1, 3), \"s\"\n",
    "\n",
    "print \"accuracy = \", accuracy_score(labels_test, pred)\n",
    "\n",
    "#########################################################"
   ]
  },
  {
   "cell_type": "code",
   "execution_count": null,
   "metadata": {
    "collapsed": true
   },
   "outputs": [],
   "source": []
  }
 ],
 "metadata": {
  "kernelspec": {
   "display_name": "Python 3",
   "language": "python",
   "name": "python3"
  },
  "language_info": {
   "codemirror_mode": {
    "name": "ipython",
    "version": 3
   },
   "file_extension": ".py",
   "mimetype": "text/x-python",
   "name": "python",
   "nbconvert_exporter": "python",
   "pygments_lexer": "ipython3",
   "version": "3.8.5"
  }
 },
 "nbformat": 4,
 "nbformat_minor": 2
}
