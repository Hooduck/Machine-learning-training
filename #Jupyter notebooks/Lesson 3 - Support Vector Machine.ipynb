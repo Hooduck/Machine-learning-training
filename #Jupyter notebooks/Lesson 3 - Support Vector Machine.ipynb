{
 "cells": [
  {
   "cell_type": "markdown",
   "metadata": {},
   "source": [
    "[Qu'est ce que c'est le SVM Classifieur](https://zestedesavoir.com/tutoriels/1760/un-peu-de-machine-learning-avec-les-svm/)\n",
    "\n",
    "[SKLearn SVM](https://scikit-learn.org/stable/modules/svm.html)\n",
    "\n"
   ]
  },
  {
   "cell_type": "code",
   "execution_count": 2,
   "metadata": {
    "collapsed": false
   },
   "outputs": [
    {
     "name": "stdout",
     "output_type": "stream",
     "text": [
      "[1]\n"
     ]
    }
   ],
   "source": [
    "from sklearn import svm\n",
    "X = [[0, 0], [1, 1]]\n",
    "y = [0, 1]\n",
    "clf = svm.SVC() #Classifieur\n",
    "clf.fit(X, y) #fit = entraînement via X (features) et Y (label)\n",
    "\n",
    "print(clf.predict([[2., 2.]])) #Prédiction basé sur l'entraînement"
   ]
  },
  {
   "cell_type": "markdown",
   "metadata": {},
   "source": [
    "[What is the kernel trick?](https://medium.com/@zxr.nju/what-is-the-kernel-trick-why-is-it-important-98a98db0961d)\n",
    "\n",
    "[Influences des paramètres pour un SVM \"RBF\" (C et gamma)](https://scikit-learn.org/stable/auto_examples/svm/plot_rbf_parameters.html)\n",
    "\n",
    "[How to- SKLearn SVC](https://scikit-learn.org/stable/modules/generated/sklearn.svm.SVC.html)\n"
   ]
  },
  {
   "cell_type": "markdown",
   "metadata": {
    "collapsed": true
   },
   "source": [
    "Projet"
   ]
  },
  {
   "cell_type": "code",
   "execution_count": 29,
   "metadata": {
    "collapsed": false
   },
   "outputs": [
    {
     "name": "stdout",
     "output_type": "stream",
     "text": [
      "no. of Chris training emails: 7936\n",
      "no. of Sara training emails: 7884\n",
      "training time: 172.251 s\n"
     ]
    }
   ],
   "source": [
    "\"\"\" \n",
    "    This is the code to accompany the Lesson 2 (SVM) mini-project.\n",
    "\n",
    "    Use a SVM to identify emails from the Enron corpus by their authors:    \n",
    "    Sara has label 0\n",
    "    Chris has label 1\n",
    "\"\"\"\n",
    "\n",
    "\n",
    "import sys\n",
    "from time import time\n",
    "sys.path.append(\"../tools/\")\n",
    "from email_preprocess import preprocess\n",
    "from sklearn import svm\n",
    "\n",
    "\n",
    "### features_train and features_test are the features for the training\n",
    "### and testing datasets, respectively\n",
    "### labels_train and labels_test are the corresponding item labels\n",
    "features_train, features_test, labels_train, labels_test = preprocess()\n",
    "\n",
    "\n",
    "#########################################################\n",
    "\n",
    "### Réduction de la population de training\n",
    "### ! Attention à l'impact sur la précision\n",
    "#features_train = features_train[:len(features_train)/100]\n",
    "#labels_train = labels_train[:len(labels_train)/100]\n",
    "\n",
    "clf = svm.SVC(C=10000, kernel=\"rbf\")\n",
    "t0 = time()\n",
    "clf.fit(features_train, labels_train)\n",
    "t1 = time()\n",
    "print \"training time:\", round(t1-t0, 3), \"s\"\n",
    "\n",
    "#########################################################"
   ]
  },
  {
   "cell_type": "code",
   "execution_count": 31,
   "metadata": {
    "collapsed": false
   },
   "outputs": [
    {
     "name": "stdout",
     "output_type": "stream",
     "text": [
      "no. of Chris training emails: 7936\n",
      "no. of Sara training emails: 7884\n",
      "predict time: 17.711 s\n",
      "accuracy =  0.990898748578\n",
      "Predictions are (0 = Sara, 1 = Chris) 10 = 1, 26 = 0, 50 = 1\n",
      "Occurence of Chris in 'pred' array =  877\n"
     ]
    }
   ],
   "source": [
    "import sys\n",
    "from time import time\n",
    "sys.path.append(\"../tools/\")\n",
    "from email_preprocess import preprocess\n",
    "from sklearn import svm\n",
    "from sklearn.metrics import accuracy_score\n",
    "\n",
    "\n",
    "### features_train and features_test are the features for the training\n",
    "### and testing datasets, respectively\n",
    "### labels_train and labels_test are the corresponding item labels\n",
    "features_train, features_test, labels_train, labels_test = preprocess()\n",
    "\n",
    "\n",
    "#########################################################\n",
    "\n",
    "t1 = time()\n",
    "pred = clf.predict(features_test)\n",
    "t2 = time()\n",
    "print \"predict time:\", round(t2-t1, 3), \"s\"\n",
    "\n",
    "print \"accuracy = \", accuracy_score(labels_test, pred)\n",
    "print \"Predictions are (0 = Sara, 1 = Chris) 10 = {}, 26 = {}, 50 = {}\".format(pred[10], pred[26], pred[50])\n",
    "print \"Occurence of Chris in 'pred' array = \", (pred == 1).sum()\n",
    "\n",
    "\n",
    "# 1° valeur = 0.984072810011 (linear)\n",
    "# 2° valeur = 0.884527872582 (linear, pop/100)\n",
    "# 3° valeur = 0.616040955631 (rbf, pop/100)\n",
    "# 4° valeur = 0.892491467577 (rbf, pop/100, C=10^4)\n",
    "# 5° valeur = 0.990898748578 (rbf, C=10^4)\n",
    "\n",
    "#########################################################"
   ]
  },
  {
   "cell_type": "code",
   "execution_count": null,
   "metadata": {
    "collapsed": true
   },
   "outputs": [],
   "source": []
  }
 ],
 "metadata": {
  "kernelspec": {
   "display_name": "Python 2",
   "language": "python",
   "name": "python2"
  },
  "language_info": {
   "codemirror_mode": {
    "name": "ipython",
    "version": 2
   },
   "file_extension": ".py",
   "mimetype": "text/x-python",
   "name": "python",
   "nbconvert_exporter": "python",
   "pygments_lexer": "ipython2",
   "version": "2.7.13"
  }
 },
 "nbformat": 4,
 "nbformat_minor": 2
}
